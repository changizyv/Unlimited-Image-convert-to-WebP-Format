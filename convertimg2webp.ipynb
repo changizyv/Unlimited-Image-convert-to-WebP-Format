!pip install pillow

import os
from PIL import Image
from google.colab import drive
import gc

drive.mount('/content/drive')

# مسیر پوشه‌های ورودی و خروجی
# INPUT & OUTPUT PATH
input_folder = '/content/drive/MyDrive/input-jpg/'
output_folder = '/content/drive/MyDrive/output-webp'

# بررسی و ایجاد پوشه خروجی در صورت عدم وجود
# Check and create output folder if it does not exist
if not os.path.exists(output_folder):
    os.makedirs(output_folder)

# تابع برای تبدیل تصاویر به فرمت webp
# Function to convert images to webp format

def convert_images(input_folder, output_folder):
    for root, dirs, files in os.walk(input_folder):
        for file in files:
            if file.endswith(('.png', '.jpg', '.jpeg', '.bmp', '.tiff', '.gif')):
                input_path = os.path.join(root, file)
                relative_path = os.path.relpath(input_path, input_folder)
                output_path = os.path.join(output_folder, os.path.splitext(relative_path)[0] + '.webp')

                output_dir = os.path.dirname(output_path)
                if not os.path.exists(output_dir):
                    os.makedirs(output_dir)

                with Image.open(input_path) as image:
                    image.save(output_path, 'webp')

                print(f'Converted {input_path} to {output_path}')
            else:
                print(f'Skipped {file}, not an image file')

# اجرای تابع تبدیل تصاویر
convert_images(input_folder, output_folder)

print('Conversion completed!')
